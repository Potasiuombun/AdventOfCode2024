{
 "cells": [
  {
   "cell_type": "markdown",
   "metadata": {},
   "source": [
    "# Part1"
   ]
  },
  {
   "cell_type": "code",
   "execution_count": 8,
   "metadata": {},
   "outputs": [],
   "source": [
    "levels = open(\"examples2.txt\", \"r\").read().splitlines()"
   ]
  },
  {
   "cell_type": "code",
   "execution_count": 9,
   "metadata": {},
   "outputs": [
    {
     "data": {
      "text/plain": [
       "['48 46 47 49 51 54 56',\n",
       " '1 1 2 3 4 5',\n",
       " '1 2 3 4 5 5',\n",
       " '5 1 2 3 4 5',\n",
       " '1 4 3 2 1',\n",
       " '1 6 7 8 9',\n",
       " '1 2 3 4 3',\n",
       " '9 8 7 6 7',\n",
       " '7 10 8 10 11',\n",
       " '29 28 27 25 26 25 22 20',\n",
       " '7 6 4 2 1',\n",
       " '1 2 7 8 9',\n",
       " '9 7 6 2 1',\n",
       " '1 3 2 4 5',\n",
       " '8 6 4 4 1',\n",
       " '1 3 6 7 9']"
      ]
     },
     "execution_count": 9,
     "metadata": {},
     "output_type": "execute_result"
    }
   ],
   "source": [
    "levels"
   ]
  },
  {
   "cell_type": "markdown",
   "metadata": {},
   "source": [
    "- levels are either all increasing or all decreasing\n",
    "- any two adjacent levels differ by at leat one and at most three"
   ]
  },
  {
   "cell_type": "code",
   "execution_count": 10,
   "metadata": {},
   "outputs": [],
   "source": [
    "level_ints = []\n",
    "for level in levels:\n",
    "    tmp = level.split(\" \")\n",
    "    lvl = []\n",
    "    for i in tmp:\n",
    "        lvl.append(int(i))\n",
    "    level_ints.append(lvl)"
   ]
  },
  {
   "cell_type": "code",
   "execution_count": 11,
   "metadata": {},
   "outputs": [
    {
     "data": {
      "text/plain": [
       "list"
      ]
     },
     "execution_count": 11,
     "metadata": {},
     "output_type": "execute_result"
    }
   ],
   "source": [
    "type(level_ints)"
   ]
  },
  {
   "cell_type": "code",
   "execution_count": 12,
   "metadata": {},
   "outputs": [],
   "source": [
    "safe_levels = 0\n",
    "for level in level_ints:\n",
    "    safe = False\n",
    "    comparisons = len(level)-1\n",
    "    if sorted(level) == level or sorted(level,reverse=True) == level:\n",
    "        \n",
    "        if sorted(set(level), key = level.index) == level:\n",
    "            safe_counter = 0\n",
    "            for i in range(0,comparisons):\n",
    "                condition = abs(level[i] - level[i+1])\n",
    "                if condition >= 1 and condition <= 3:\n",
    "                    safe_counter+=1\n",
    "            if safe_counter == comparisons:\n",
    "                safe_levels+=1"
   ]
  },
  {
   "cell_type": "code",
   "execution_count": 13,
   "metadata": {},
   "outputs": [
    {
     "data": {
      "text/plain": [
       "2"
      ]
     },
     "execution_count": 13,
     "metadata": {},
     "output_type": "execute_result"
    }
   ],
   "source": [
    "safe_levels"
   ]
  },
  {
   "cell_type": "markdown",
   "metadata": {},
   "source": [
    "Part 2"
   ]
  },
  {
   "cell_type": "markdown",
   "metadata": {},
   "source": [
    "Each level needs to pass all previous steps\n",
    "\n"
   ]
  },
  {
   "cell_type": "code",
   "execution_count": null,
   "metadata": {},
   "outputs": [
    {
     "name": "stdout",
     "output_type": "stream",
     "text": [
      "-\n",
      "-\n",
      "-\n",
      "-\n",
      "-\n",
      "-\n",
      "-\n",
      "0\n",
      "1\n"
     ]
    },
    {
     "ename": "IndexError",
     "evalue": "list index out of range",
     "output_type": "error",
     "traceback": [
      "\u001b[0;31m---------------------------------------------------------------------------\u001b[0m",
      "\u001b[0;31mIndexError\u001b[0m                                Traceback (most recent call last)",
      "Cell \u001b[0;32mIn[21], line 22\u001b[0m\n\u001b[1;32m     20\u001b[0m safe_counter \u001b[38;5;241m=\u001b[39m \u001b[38;5;241m0\u001b[39m\n\u001b[1;32m     21\u001b[0m \u001b[38;5;28;01mfor\u001b[39;00m i \u001b[38;5;129;01min\u001b[39;00m \u001b[38;5;28mrange\u001b[39m(\u001b[38;5;241m0\u001b[39m,comparisons):\n\u001b[0;32m---> 22\u001b[0m     condition \u001b[38;5;241m=\u001b[39m \u001b[38;5;28mabs\u001b[39m(level[i] \u001b[38;5;241m-\u001b[39m \u001b[43mlevel\u001b[49m\u001b[43m[\u001b[49m\u001b[43mi\u001b[49m\u001b[38;5;241;43m+\u001b[39;49m\u001b[38;5;241;43m1\u001b[39;49m\u001b[43m]\u001b[49m)\n\u001b[1;32m     23\u001b[0m     \u001b[38;5;28;01mif\u001b[39;00m condition \u001b[38;5;241m>\u001b[39m\u001b[38;5;241m=\u001b[39m \u001b[38;5;241m1\u001b[39m \u001b[38;5;129;01mand\u001b[39;00m condition \u001b[38;5;241m<\u001b[39m\u001b[38;5;241m=\u001b[39m \u001b[38;5;241m3\u001b[39m:\n\u001b[1;32m     24\u001b[0m         safe_counter\u001b[38;5;241m+\u001b[39m\u001b[38;5;241m=\u001b[39m\u001b[38;5;241m1\u001b[39m\n",
      "\u001b[0;31mIndexError\u001b[0m: list index out of range"
     ]
    }
   ],
   "source": [
    "safe_levels = 0\n",
    "for level in level_ints:\n",
    "    safe = False\n",
    "    comparisons = len(level)-1\n",
    "    if sorted(level) == level or sorted(level,reverse=True) == level: \n",
    "        # have to check if removing an item will help first\n",
    "        #print(level)\n",
    "        if abs(len(sorted(set(level), key = level.index)) - len(level)) <= 1:\n",
    "            #print(level)\n",
    "            #print(\"hi\")\n",
    "            print(\"-\")\n",
    "    else: # 1 3 2 4 5\n",
    "        tmp = level\n",
    "        break\n",
    "\n"
   ]
  },
  {
   "cell_type": "code",
   "execution_count": 26,
   "metadata": {},
   "outputs": [],
   "source": [
    "import pandas as pd\n",
    "\n",
    "def checker(row_list : list):\n",
    "    counter = 0\n",
    "    if row_list == sorted(row_list, reverse=True) or row_list == sorted(row_list, reverse=False):\n",
    "        for j in range(len(row_list)-1):\n",
    "            if abs(row_list[j] - row_list[j+1]) > 3 or row_list[j] == row_list[j+1]:\n",
    "                break\n",
    "            if j == len(row_list)-2:\n",
    "                counter = 1\n",
    "    return counter\n",
    "\n",
    "def second_star():\n",
    "    data = pd.read_csv(\"levels.txt\", header=None)\n",
    "    counter = 0\n",
    "    for i in range(len(data)):\n",
    "        row_data = list(map(int, (data[0][i].split(' '))))\n",
    "        if checker(row_data) == 1:\n",
    "            counter+= 1\n",
    "        else:\n",
    "            for j in range(len(row_data)-1):\n",
    "                detailed_list = list(row_data)\n",
    "                detailed_list.pop(j)\n",
    "                if checker(detailed_list) == 1:\n",
    "                    counter += 1\n",
    "                    break\n",
    "    return counter\n"
   ]
  },
  {
   "cell_type": "code",
   "execution_count": 27,
   "metadata": {},
   "outputs": [
    {
     "data": {
      "text/plain": [
       "0"
      ]
     },
     "execution_count": 27,
     "metadata": {},
     "output_type": "execute_result"
    }
   ],
   "source": [
    "checker(level_ints)"
   ]
  },
  {
   "cell_type": "code",
   "execution_count": null,
   "metadata": {},
   "outputs": [],
   "source": []
  }
 ],
 "metadata": {
  "kernelspec": {
   "display_name": "wavenet310",
   "language": "python",
   "name": "python3"
  },
  "language_info": {
   "codemirror_mode": {
    "name": "ipython",
    "version": 3
   },
   "file_extension": ".py",
   "mimetype": "text/x-python",
   "name": "python",
   "nbconvert_exporter": "python",
   "pygments_lexer": "ipython3",
   "version": "3.10.12"
  }
 },
 "nbformat": 4,
 "nbformat_minor": 2
}
